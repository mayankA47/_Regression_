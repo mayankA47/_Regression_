{
 "cells": [
  {
   "cell_type": "code",
   "execution_count": 3,
   "metadata": {},
   "outputs": [],
   "source": [
    "import pandas as pd\n",
    "import numpy as np\n",
    "import matplotlib.pyplot as plt"
   ]
  },
  {
   "cell_type": "code",
   "execution_count": 8,
   "metadata": {},
   "outputs": [],
   "source": [
    "data = pd.read_csv('Mall_Customers.csv')"
   ]
  },
  {
   "cell_type": "code",
   "execution_count": 14,
   "metadata": {},
   "outputs": [],
   "source": [
    "age = data.iloc[:,2].values\n",
    "score = data.iloc[:,-1].values\n",
    "income = data.iloc[:,3].values"
   ]
  },
  {
   "cell_type": "code",
   "execution_count": 7,
   "metadata": {},
   "outputs": [],
   "source": [
    "# not required!!\n",
    "age = np.array(age)\n",
    "score = np.array(score)"
   ]
  },
  {
   "cell_type": "code",
   "execution_count": 10,
   "metadata": {},
   "outputs": [
    {
     "ename": "TypeError",
     "evalue": "'tuple' object is not callable",
     "output_type": "error",
     "traceback": [
      "\u001b[1;31m---------------------------------------------------------------------------\u001b[0m",
      "\u001b[1;31mTypeError\u001b[0m                                 Traceback (most recent call last)",
      "\u001b[1;32m<ipython-input-10-d0e8287c4c23>\u001b[0m in \u001b[0;36m<module>\u001b[1;34m\u001b[0m\n\u001b[1;32m----> 1\u001b[1;33m \u001b[0mscore\u001b[0m\u001b[1;33m.\u001b[0m\u001b[0mshape\u001b[0m\u001b[1;33m(\u001b[0m\u001b[1;36m0\u001b[0m\u001b[1;33m)\u001b[0m\u001b[1;33m\u001b[0m\u001b[1;33m\u001b[0m\u001b[0m\n\u001b[0m",
      "\u001b[1;31mTypeError\u001b[0m: 'tuple' object is not callable"
     ]
    }
   ],
   "source": [
    "score.shape(0)"
   ]
  },
  {
   "cell_type": "code",
   "execution_count": 11,
   "metadata": {},
   "outputs": [
    {
     "data": {
      "text/plain": [
       "()"
      ]
     },
     "execution_count": 11,
     "metadata": {},
     "output_type": "execute_result"
    }
   ],
   "source": [
    "score[0].shape"
   ]
  },
  {
   "cell_type": "code",
   "execution_count": 15,
   "metadata": {},
   "outputs": [
    {
     "data": {
      "image/png": "[encoded data removed]",
      "text/plain": [
       "<Figure size 432x288 with 1 Axes>"
      ]
     },
     "metadata": {
      "needs_background": "light"
     },
     "output_type": "display_data"
    }
   ],
   "source": [
    "plt.scatter(income,score)\n",
    "plt.xlabel('income')\n",
    "plt.ylabel('spending_score')\n",
    "plt.show()"
   ]
  },
  {
   "cell_type": "code",
   "execution_count": 13,
   "metadata": {},
   "outputs": [
    {
     "data": {
      "text/html": [
       "<div>\n",
       "<style scoped>\n",
       "    .dataframe tbody tr th:only-of-type {\n",
       "        vertical-align: middle;\n",
       "    }\n",
       "\n",
       "    .dataframe tbody tr th {\n",
       "        vertical-align: top;\n",
       "    }\n",
       "\n",
       "    .dataframe thead th {\n",
       "        text-align: right;\n",
       "    }\n",
       "</style>\n",
       "<table border=\"1\" class=\"dataframe\">\n",
       "  <thead>\n",
       "    <tr style=\"text-align: right;\">\n",
       "      <th></th>\n",
       "      <th>CustomerID</th>\n",
       "      <th>Genre</th>\n",
       "      <th>Age</th>\n",
       "      <th>Annual Income (k$)</th>\n",
       "      <th>Spending Score (1-100)</th>\n",
       "    </tr>\n",
       "  </thead>\n",
       "  <tbody>\n",
       "    <tr>\n",
       "      <th>0</th>\n",
       "      <td>1</td>\n",
       "      <td>Male</td>\n",
       "      <td>19</td>\n",
       "      <td>15</td>\n",
       "      <td>39</td>\n",
       "    </tr>\n",
       "    <tr>\n",
       "      <th>1</th>\n",
       "      <td>2</td>\n",
       "      <td>Male</td>\n",
       "      <td>21</td>\n",
       "      <td>15</td>\n",
       "      <td>81</td>\n",
       "    </tr>\n",
       "    <tr>\n",
       "      <th>2</th>\n",
       "      <td>3</td>\n",
       "      <td>Female</td>\n",
       "      <td>20</td>\n",
       "      <td>16</td>\n",
       "      <td>6</td>\n",
       "    </tr>\n",
       "    <tr>\n",
       "      <th>3</th>\n",
       "      <td>4</td>\n",
       "      <td>Female</td>\n",
       "      <td>23</td>\n",
       "      <td>16</td>\n",
       "      <td>77</td>\n",
       "    </tr>\n",
       "    <tr>\n",
       "      <th>4</th>\n",
       "      <td>5</td>\n",
       "      <td>Female</td>\n",
       "      <td>31</td>\n",
       "      <td>17</td>\n",
       "      <td>40</td>\n",
       "    </tr>\n",
       "    <tr>\n",
       "      <th>5</th>\n",
       "      <td>6</td>\n",
       "      <td>Female</td>\n",
       "      <td>22</td>\n",
       "      <td>17</td>\n",
       "      <td>76</td>\n",
       "    </tr>\n",
       "    <tr>\n",
       "      <th>6</th>\n",
       "      <td>7</td>\n",
       "      <td>Female</td>\n",
       "      <td>35</td>\n",
       "      <td>18</td>\n",
       "      <td>6</td>\n",
       "    </tr>\n",
       "    <tr>\n",
       "      <th>7</th>\n",
       "      <td>8</td>\n",
       "      <td>Female</td>\n",
       "      <td>23</td>\n",
       "      <td>18</td>\n",
       "      <td>94</td>\n",
       "    </tr>\n",
       "    <tr>\n",
       "      <th>8</th>\n",
       "      <td>9</td>\n",
       "      <td>Male</td>\n",
       "      <td>64</td>\n",
       "      <td>19</td>\n",
       "      <td>3</td>\n",
       "    </tr>\n",
       "    <tr>\n",
       "      <th>9</th>\n",
       "      <td>10</td>\n",
       "      <td>Female</td>\n",
       "      <td>30</td>\n",
       "      <td>19</td>\n",
       "      <td>72</td>\n",
       "    </tr>\n",
       "    <tr>\n",
       "      <th>10</th>\n",
       "      <td>11</td>\n",
       "      <td>Male</td>\n",
       "      <td>67</td>\n",
       "      <td>19</td>\n",
       "      <td>14</td>\n",
       "    </tr>\n",
       "    <tr>\n",
       "      <th>11</th>\n",
       "      <td>12</td>\n",
       "      <td>Female</td>\n",
       "      <td>35</td>\n",
       "      <td>19</td>\n",
       "      <td>99</td>\n",
       "    </tr>\n",
       "    <tr>\n",
       "      <th>12</th>\n",
       "      <td>13</td>\n",
       "      <td>Female</td>\n",
       "      <td>58</td>\n",
       "      <td>20</td>\n",
       "      <td>15</td>\n",
       "    </tr>\n",
       "    <tr>\n",
       "      <th>13</th>\n",
       "      <td>14</td>\n",
       "      <td>Female</td>\n",
       "      <td>24</td>\n",
       "      <td>20</td>\n",
       "      <td>77</td>\n",
       "    </tr>\n",
       "    <tr>\n",
       "      <th>14</th>\n",
       "      <td>15</td>\n",
       "      <td>Male</td>\n",
       "      <td>37</td>\n",
       "      <td>20</td>\n",
       "      <td>13</td>\n",
       "    </tr>\n",
       "    <tr>\n",
       "      <th>15</th>\n",
       "      <td>16</td>\n",
       "      <td>Male</td>\n",
       "      <td>22</td>\n",
       "      <td>20</td>\n",
       "      <td>79</td>\n",
       "    </tr>\n",
       "    <tr>\n",
       "      <th>16</th>\n",
       "      <td>17</td>\n",
       "      <td>Female</td>\n",
       "      <td>35</td>\n",
       "      <td>21</td>\n",
       "      <td>35</td>\n",
       "    </tr>\n",
       "    <tr>\n",
       "      <th>17</th>\n",
       "      <td>18</td>\n",
       "      <td>Male</td>\n",
       "      <td>20</td>\n",
       "      <td>21</td>\n",
       "      <td>66</td>\n",
       "    </tr>\n",
       "    <tr>\n",
       "      <th>18</th>\n",
       "      <td>19</td>\n",
       "      <td>Male</td>\n",
       "      <td>52</td>\n",
       "      <td>23</td>\n",
       "      <td>29</td>\n",
       "    </tr>\n",
       "    <tr>\n",
       "      <th>19</th>\n",
       "      <td>20</td>\n",
       "      <td>Female</td>\n",
       "      <td>35</td>\n",
       "      <td>23</td>\n",
       "      <td>98</td>\n",
       "    </tr>\n",
       "    <tr>\n",
       "      <th>20</th>\n",
       "      <td>21</td>\n",
       "      <td>Male</td>\n",
       "      <td>35</td>\n",
       "      <td>24</td>\n",
       "      <td>35</td>\n",
       "    </tr>\n",
       "    <tr>\n",
       "      <th>21</th>\n",
       "      <td>22</td>\n",
       "      <td>Male</td>\n",
       "      <td>25</td>\n",
       "      <td>24</td>\n",
       "      <td>73</td>\n",
       "    </tr>\n",
       "    <tr>\n",
       "      <th>22</th>\n",
       "      <td>23</td>\n",
       "      <td>Female</td>\n",
       "      <td>46</td>\n",
       "      <td>25</td>\n",
       "      <td>5</td>\n",
       "    </tr>\n",
       "    <tr>\n",
       "      <th>23</th>\n",
       "      <td>24</td>\n",
       "      <td>Male</td>\n",
       "      <td>31</td>\n",
       "      <td>25</td>\n",
       "      <td>73</td>\n",
       "    </tr>\n",
       "    <tr>\n",
       "      <th>24</th>\n",
       "      <td>25</td>\n",
       "      <td>Female</td>\n",
       "      <td>54</td>\n",
       "      <td>28</td>\n",
       "      <td>14</td>\n",
       "    </tr>\n",
       "    <tr>\n",
       "      <th>25</th>\n",
       "      <td>26</td>\n",
       "      <td>Male</td>\n",
       "      <td>29</td>\n",
       "      <td>28</td>\n",
       "      <td>82</td>\n",
       "    </tr>\n",
       "    <tr>\n",
       "      <th>26</th>\n",
       "      <td>27</td>\n",
       "      <td>Female</td>\n",
       "      <td>45</td>\n",
       "      <td>28</td>\n",
       "      <td>32</td>\n",
       "    </tr>\n",
       "    <tr>\n",
       "      <th>27</th>\n",
       "      <td>28</td>\n",
       "      <td>Male</td>\n",
       "      <td>35</td>\n",
       "      <td>28</td>\n",
       "      <td>61</td>\n",
       "    </tr>\n",
       "    <tr>\n",
       "      <th>28</th>\n",
       "      <td>29</td>\n",
       "      <td>Female</td>\n",
       "      <td>40</td>\n",
       "      <td>29</td>\n",
       "      <td>31</td>\n",
       "    </tr>\n",
       "    <tr>\n",
       "      <th>29</th>\n",
       "      <td>30</td>\n",
       "      <td>Female</td>\n",
       "      <td>23</td>\n",
       "      <td>29</td>\n",
       "      <td>87</td>\n",
       "    </tr>\n",
       "    <tr>\n",
       "      <th>...</th>\n",
       "      <td>...</td>\n",
       "      <td>...</td>\n",
       "      <td>...</td>\n",
       "      <td>...</td>\n",
       "      <td>...</td>\n",
       "    </tr>\n",
       "    <tr>\n",
       "      <th>170</th>\n",
       "      <td>171</td>\n",
       "      <td>Male</td>\n",
       "      <td>40</td>\n",
       "      <td>87</td>\n",
       "      <td>13</td>\n",
       "    </tr>\n",
       "    <tr>\n",
       "      <th>171</th>\n",
       "      <td>172</td>\n",
       "      <td>Male</td>\n",
       "      <td>28</td>\n",
       "      <td>87</td>\n",
       "      <td>75</td>\n",
       "    </tr>\n",
       "    <tr>\n",
       "      <th>172</th>\n",
       "      <td>173</td>\n",
       "      <td>Male</td>\n",
       "      <td>36</td>\n",
       "      <td>87</td>\n",
       "      <td>10</td>\n",
       "    </tr>\n",
       "    <tr>\n",
       "      <th>173</th>\n",
       "      <td>174</td>\n",
       "      <td>Male</td>\n",
       "      <td>36</td>\n",
       "      <td>87</td>\n",
       "      <td>92</td>\n",
       "    </tr>\n",
       "    <tr>\n",
       "      <th>174</th>\n",
       "      <td>175</td>\n",
       "      <td>Female</td>\n",
       "      <td>52</td>\n",
       "      <td>88</td>\n",
       "      <td>13</td>\n",
       "    </tr>\n",
       "    <tr>\n",
       "      <th>175</th>\n",
       "      <td>176</td>\n",
       "      <td>Female</td>\n",
       "      <td>30</td>\n",
       "      <td>88</td>\n",
       "      <td>86</td>\n",
       "    </tr>\n",
       "    <tr>\n",
       "      <th>176</th>\n",
       "      <td>177</td>\n",
       "      <td>Male</td>\n",
       "      <td>58</td>\n",
       "      <td>88</td>\n",
       "      <td>15</td>\n",
       "    </tr>\n",
       "    <tr>\n",
       "      <th>177</th>\n",
       "      <td>178</td>\n",
       "      <td>Male</td>\n",
       "      <td>27</td>\n",
       "      <td>88</td>\n",
       "      <td>69</td>\n",
       "    </tr>\n",
       "    <tr>\n",
       "      <th>178</th>\n",
       "      <td>179</td>\n",
       "      <td>Male</td>\n",
       "      <td>59</td>\n",
       "      <td>93</td>\n",
       "      <td>14</td>\n",
       "    </tr>\n",
       "    <tr>\n",
       "      <th>179</th>\n",
       "      <td>180</td>\n",
       "      <td>Male</td>\n",
       "      <td>35</td>\n",
       "      <td>93</td>\n",
       "      <td>90</td>\n",
       "    </tr>\n",
       "    <tr>\n",
       "      <th>180</th>\n",
       "      <td>181</td>\n",
       "      <td>Female</td>\n",
       "      <td>37</td>\n",
       "      <td>97</td>\n",
       "      <td>32</td>\n",
       "    </tr>\n",
       "    <tr>\n",
       "      <th>181</th>\n",
       "      <td>182</td>\n",
       "      <td>Female</td>\n",
       "      <td>32</td>\n",
       "      <td>97</td>\n",
       "      <td>86</td>\n",
       "    </tr>\n",
       "    <tr>\n",
       "      <th>182</th>\n",
       "      <td>183</td>\n",
       "      <td>Male</td>\n",
       "      <td>46</td>\n",
       "      <td>98</td>\n",
       "      <td>15</td>\n",
       "    </tr>\n",
       "    <tr>\n",
       "      <th>183</th>\n",
       "      <td>184</td>\n",
       "      <td>Female</td>\n",
       "      <td>29</td>\n",
       "      <td>98</td>\n",
       "      <td>88</td>\n",
       "    </tr>\n",
       "    <tr>\n",
       "      <th>184</th>\n",
       "      <td>185</td>\n",
       "      <td>Female</td>\n",
       "      <td>41</td>\n",
       "      <td>99</td>\n",
       "      <td>39</td>\n",
       "    </tr>\n",
       "    <tr>\n",
       "      <th>185</th>\n",
       "      <td>186</td>\n",
       "      <td>Male</td>\n",
       "      <td>30</td>\n",
       "      <td>99</td>\n",
       "      <td>97</td>\n",
       "    </tr>\n",
       "    <tr>\n",
       "      <th>186</th>\n",
       "      <td>187</td>\n",
       "      <td>Female</td>\n",
       "      <td>54</td>\n",
       "      <td>101</td>\n",
       "      <td>24</td>\n",
       "    </tr>\n",
       "    <tr>\n",
       "      <th>187</th>\n",
       "      <td>188</td>\n",
       "      <td>Male</td>\n",
       "      <td>28</td>\n",
       "      <td>101</td>\n",
       "      <td>68</td>\n",
       "    </tr>\n",
       "    <tr>\n",
       "      <th>188</th>\n",
       "      <td>189</td>\n",
       "      <td>Female</td>\n",
       "      <td>41</td>\n",
       "      <td>103</td>\n",
       "      <td>17</td>\n",
       "    </tr>\n",
       "    <tr>\n",
       "      <th>189</th>\n",
       "      <td>190</td>\n",
       "      <td>Female</td>\n",
       "      <td>36</td>\n",
       "      <td>103</td>\n",
       "      <td>85</td>\n",
       "    </tr>\n",
       "    <tr>\n",
       "      <th>190</th>\n",
       "      <td>191</td>\n",
       "      <td>Female</td>\n",
       "      <td>34</td>\n",
       "      <td>103</td>\n",
       "      <td>23</td>\n",
       "    </tr>\n",
       "    <tr>\n",
       "      <th>191</th>\n",
       "      <td>192</td>\n",
       "      <td>Female</td>\n",
       "      <td>32</td>\n",
       "      <td>103</td>\n",
       "      <td>69</td>\n",
       "    </tr>\n",
       "    <tr>\n",
       "      <th>192</th>\n",
       "      <td>193</td>\n",
       "      <td>Male</td>\n",
       "      <td>33</td>\n",
       "      <td>113</td>\n",
       "      <td>8</td>\n",
       "    </tr>\n",
       "    <tr>\n",
       "      <th>193</th>\n",
       "      <td>194</td>\n",
       "      <td>Female</td>\n",
       "      <td>38</td>\n",
       "      <td>113</td>\n",
       "      <td>91</td>\n",
       "    </tr>\n",
       "    <tr>\n",
       "      <th>194</th>\n",
       "      <td>195</td>\n",
       "      <td>Female</td>\n",
       "      <td>47</td>\n",
       "      <td>120</td>\n",
       "      <td>16</td>\n",
       "    </tr>\n",
       "    <tr>\n",
       "      <th>195</th>\n",
       "      <td>196</td>\n",
       "      <td>Female</td>\n",
       "      <td>35</td>\n",
       "      <td>120</td>\n",
       "      <td>79</td>\n",
       "    </tr>\n",
       "    <tr>\n",
       "      <th>196</th>\n",
       "      <td>197</td>\n",
       "      <td>Female</td>\n",
       "      <td>45</td>\n",
       "      <td>126</td>\n",
       "      <td>28</td>\n",
       "    </tr>\n",
       "    <tr>\n",
       "      <th>197</th>\n",
       "      <td>198</td>\n",
       "      <td>Male</td>\n",
       "      <td>32</td>\n",
       "      <td>126</td>\n",
       "      <td>74</td>\n",
       "    </tr>\n",
       "    <tr>\n",
       "      <th>198</th>\n",
       "      <td>199</td>\n",
       "      <td>Male</td>\n",
       "      <td>32</td>\n",
       "      <td>137</td>\n",
       "      <td>18</td>\n",
       "    </tr>\n",
       "    <tr>\n",
       "      <th>199</th>\n",
       "      <td>200</td>\n",
       "      <td>Male</td>\n",
       "      <td>30</td>\n",
       "      <td>137</td>\n",
       "      <td>83</td>\n",
       "    </tr>\n",
       "  </tbody>\n",
       "</table>\n",
       "<p>200 rows × 5 columns</p>\n",
       "</div>"
      ],
      "text/plain": [
       "     CustomerID   Genre  Age  Annual Income (k$)  Spending Score (1-100)\n",
       "0             1    Male   19                  15                      39\n",
       "1             2    Male   21                  15                      81\n",
       "2             3  Female   20                  16                       6\n",
       "3             4  Female   23                  16                      77\n",
       "4             5  Female   31                  17                      40\n",
       "5             6  Female   22                  17                      76\n",
       "6             7  Female   35                  18                       6\n",
       "7             8  Female   23                  18                      94\n",
       "8             9    Male   64                  19                       3\n",
       "9            10  Female   30                  19                      72\n",
       "10           11    Male   67                  19                      14\n",
       "11           12  Female   35                  19                      99\n",
       "12           13  Female   58                  20                      15\n",
       "13           14  Female   24                  20                      77\n",
       "14           15    Male   37                  20                      13\n",
       "15           16    Male   22                  20                      79\n",
       "16           17  Female   35                  21                      35\n",
       "17           18    Male   20                  21                      66\n",
       "18           19    Male   52                  23                      29\n",
       "19           20  Female   35                  23                      98\n",
       "20           21    Male   35                  24                      35\n",
       "21           22    Male   25                  24                      73\n",
       "22           23  Female   46                  25                       5\n",
       "23           24    Male   31                  25                      73\n",
       "24           25  Female   54                  28                      14\n",
       "25           26    Male   29                  28                      82\n",
       "26           27  Female   45                  28                      32\n",
       "27           28    Male   35                  28                      61\n",
       "28           29  Female   40                  29                      31\n",
       "29           30  Female   23                  29                      87\n",
       "..          ...     ...  ...                 ...                     ...\n",
       "170         171    Male   40                  87                      13\n",
       "171         172    Male   28                  87                      75\n",
       "172         173    Male   36                  87                      10\n",
       "173         174    Male   36                  87                      92\n",
       "174         175  Female   52                  88                      13\n",
       "175         176  Female   30                  88                      86\n",
       "176         177    Male   58                  88                      15\n",
       "177         178    Male   27                  88                      69\n",
       "178         179    Male   59                  93                      14\n",
       "179         180    Male   35                  93                      90\n",
       "180         181  Female   37                  97                      32\n",
       "181         182  Female   32                  97                      86\n",
       "182         183    Male   46                  98                      15\n",
       "183         184  Female   29                  98                      88\n",
       "184         185  Female   41                  99                      39\n",
       "185         186    Male   30                  99                      97\n",
       "186         187  Female   54                 101                      24\n",
       "187         188    Male   28                 101                      68\n",
       "188         189  Female   41                 103                      17\n",
       "189         190  Female   36                 103                      85\n",
       "190         191  Female   34                 103                      23\n",
       "191         192  Female   32                 103                      69\n",
       "192         193    Male   33                 113                       8\n",
       "193         194  Female   38                 113                      91\n",
       "194         195  Female   47                 120                      16\n",
       "195         196  Female   35                 120                      79\n",
       "196         197  Female   45                 126                      28\n",
       "197         198    Male   32                 126                      74\n",
       "198         199    Male   32                 137                      18\n",
       "199         200    Male   30                 137                      83\n",
       "\n",
       "[200 rows x 5 columns]"
      ]
     },
     "execution_count": 13,
     "metadata": {},
     "output_type": "execute_result"
    }
   ],
   "source": [
    "data"
   ]
  },
  {
   "cell_type": "code",
   "execution_count": 9,
   "metadata": {},
   "outputs": [],
   "source": [
    "# preprocess data and removing unrelevant features\n",
    "X = data.iloc[:,1:].values"
   ]
  },
  {
   "cell_type": "code",
   "execution_count": 23,
   "metadata": {},
   "outputs": [
    {
     "data": {
      "text/plain": [
       "numpy.ndarray"
      ]
     },
     "execution_count": 23,
     "metadata": {},
     "output_type": "execute_result"
    }
   ],
   "source": [
    "type(X)"
   ]
  },
  {
   "cell_type": "code",
   "execution_count": 24,
   "metadata": {},
   "outputs": [
    {
     "data": {
      "text/plain": [
       "(200, 4)"
      ]
     },
     "execution_count": 24,
     "metadata": {},
     "output_type": "execute_result"
    }
   ],
   "source": [
    "X.shape"
   ]
  },
  {
   "cell_type": "code",
   "execution_count": 25,
   "metadata": {},
   "outputs": [
    {
     "data": {
      "text/plain": [
       "(4,)"
      ]
     },
     "execution_count": 25,
     "metadata": {},
     "output_type": "execute_result"
    }
   ],
   "source": [
    "X[0].shape"
   ]
  },
  {
   "cell_type": "code",
   "execution_count": 26,
   "metadata": {},
   "outputs": [
    {
     "data": {
      "text/plain": [
       "200"
      ]
     },
     "execution_count": 26,
     "metadata": {},
     "output_type": "execute_result"
    }
   ],
   "source": [
    "X.shape[0]"
   ]
  },
  {
   "cell_type": "code",
   "execution_count": 27,
   "metadata": {},
   "outputs": [
    {
     "data": {
      "text/plain": [
       "4"
      ]
     },
     "execution_count": 27,
     "metadata": {},
     "output_type": "execute_result"
    }
   ],
   "source": [
    "X.shape[1]"
   ]
  },
  {
   "cell_type": "code",
   "execution_count": 10,
   "metadata": {},
   "outputs": [],
   "source": [
    "n = X.shape[0]\n",
    "for i in range (0,n):\n",
    "    if(X[i][0]=='Male'):\n",
    "        X[i][0]=1\n",
    "    else:\n",
    "        X[i][0]=0"
   ]
  },
  {
   "cell_type": "code",
   "execution_count": 11,
   "metadata": {},
   "outputs": [
    {
     "data": {
      "text/plain": [
       "array([[1, 19, 15, 39],\n",
       "       [1, 21, 15, 81],\n",
       "       [0, 20, 16, 6],\n",
       "       [0, 23, 16, 77],\n",
       "       [0, 31, 17, 40],\n",
       "       [0, 22, 17, 76],\n",
       "       [0, 35, 18, 6],\n",
       "       [0, 23, 18, 94],\n",
       "       [1, 64, 19, 3],\n",
       "       [0, 30, 19, 72],\n",
       "       [1, 67, 19, 14],\n",
       "       [0, 35, 19, 99],\n",
       "       [0, 58, 20, 15],\n",
       "       [0, 24, 20, 77],\n",
       "       [1, 37, 20, 13],\n",
       "       [1, 22, 20, 79],\n",
       "       [0, 35, 21, 35],\n",
       "       [1, 20, 21, 66],\n",
       "       [1, 52, 23, 29],\n",
       "       [0, 35, 23, 98],\n",
       "       [1, 35, 24, 35],\n",
       "       [1, 25, 24, 73],\n",
       "       [0, 46, 25, 5],\n",
       "       [1, 31, 25, 73],\n",
       "       [0, 54, 28, 14],\n",
       "       [1, 29, 28, 82],\n",
       "       [0, 45, 28, 32],\n",
       "       [1, 35, 28, 61],\n",
       "       [0, 40, 29, 31],\n",
       "       [0, 23, 29, 87],\n",
       "       [1, 60, 30, 4],\n",
       "       [0, 21, 30, 73],\n",
       "       [1, 53, 33, 4],\n",
       "       [1, 18, 33, 92],\n",
       "       [0, 49, 33, 14],\n",
       "       [0, 21, 33, 81],\n",
       "       [0, 42, 34, 17],\n",
       "       [0, 30, 34, 73],\n",
       "       [0, 36, 37, 26],\n",
       "       [0, 20, 37, 75],\n",
       "       [0, 65, 38, 35],\n",
       "       [1, 24, 38, 92],\n",
       "       [1, 48, 39, 36],\n",
       "       [0, 31, 39, 61],\n",
       "       [0, 49, 39, 28],\n",
       "       [0, 24, 39, 65],\n",
       "       [0, 50, 40, 55],\n",
       "       [0, 27, 40, 47],\n",
       "       [0, 29, 40, 42],\n",
       "       [0, 31, 40, 42],\n",
       "       [0, 49, 42, 52],\n",
       "       [1, 33, 42, 60],\n",
       "       [0, 31, 43, 54],\n",
       "       [1, 59, 43, 60],\n",
       "       [0, 50, 43, 45],\n",
       "       [1, 47, 43, 41],\n",
       "       [0, 51, 44, 50],\n",
       "       [1, 69, 44, 46],\n",
       "       [0, 27, 46, 51],\n",
       "       [1, 53, 46, 46],\n",
       "       [1, 70, 46, 56],\n",
       "       [1, 19, 46, 55],\n",
       "       [0, 67, 47, 52],\n",
       "       [0, 54, 47, 59],\n",
       "       [1, 63, 48, 51],\n",
       "       [1, 18, 48, 59],\n",
       "       [0, 43, 48, 50],\n",
       "       [0, 68, 48, 48],\n",
       "       [1, 19, 48, 59],\n",
       "       [0, 32, 48, 47],\n",
       "       [1, 70, 49, 55],\n",
       "       [0, 47, 49, 42],\n",
       "       [0, 60, 50, 49],\n",
       "       [0, 60, 50, 56],\n",
       "       [1, 59, 54, 47],\n",
       "       [1, 26, 54, 54],\n",
       "       [0, 45, 54, 53],\n",
       "       [1, 40, 54, 48],\n",
       "       [0, 23, 54, 52],\n",
       "       [0, 49, 54, 42],\n",
       "       [1, 57, 54, 51],\n",
       "       [1, 38, 54, 55],\n",
       "       [1, 67, 54, 41],\n",
       "       [0, 46, 54, 44],\n",
       "       [0, 21, 54, 57],\n",
       "       [1, 48, 54, 46],\n",
       "       [0, 55, 57, 58],\n",
       "       [0, 22, 57, 55],\n",
       "       [0, 34, 58, 60],\n",
       "       [0, 50, 58, 46],\n",
       "       [0, 68, 59, 55],\n",
       "       [1, 18, 59, 41],\n",
       "       [1, 48, 60, 49],\n",
       "       [0, 40, 60, 40],\n",
       "       [0, 32, 60, 42],\n",
       "       [1, 24, 60, 52],\n",
       "       [0, 47, 60, 47],\n",
       "       [0, 27, 60, 50],\n",
       "       [1, 48, 61, 42],\n",
       "       [1, 20, 61, 49],\n",
       "       [0, 23, 62, 41],\n",
       "       [0, 49, 62, 48],\n",
       "       [1, 67, 62, 59],\n",
       "       [1, 26, 62, 55],\n",
       "       [1, 49, 62, 56],\n",
       "       [0, 21, 62, 42],\n",
       "       [0, 66, 63, 50],\n",
       "       [1, 54, 63, 46],\n",
       "       [1, 68, 63, 43],\n",
       "       [1, 66, 63, 48],\n",
       "       [1, 65, 63, 52],\n",
       "       [0, 19, 63, 54],\n",
       "       [0, 38, 64, 42],\n",
       "       [1, 19, 64, 46],\n",
       "       [0, 18, 65, 48],\n",
       "       [0, 19, 65, 50],\n",
       "       [0, 63, 65, 43],\n",
       "       [0, 49, 65, 59],\n",
       "       [0, 51, 67, 43],\n",
       "       [0, 50, 67, 57],\n",
       "       [1, 27, 67, 56],\n",
       "       [0, 38, 67, 40],\n",
       "       [0, 40, 69, 58],\n",
       "       [1, 39, 69, 91],\n",
       "       [0, 23, 70, 29],\n",
       "       [0, 31, 70, 77],\n",
       "       [1, 43, 71, 35],\n",
       "       [1, 40, 71, 95],\n",
       "       [1, 59, 71, 11],\n",
       "       [1, 38, 71, 75],\n",
       "       [1, 47, 71, 9],\n",
       "       [1, 39, 71, 75],\n",
       "       [0, 25, 72, 34],\n",
       "       [0, 31, 72, 71],\n",
       "       [1, 20, 73, 5],\n",
       "       [0, 29, 73, 88],\n",
       "       [0, 44, 73, 7],\n",
       "       [1, 32, 73, 73],\n",
       "       [1, 19, 74, 10],\n",
       "       [0, 35, 74, 72],\n",
       "       [0, 57, 75, 5],\n",
       "       [1, 32, 75, 93],\n",
       "       [0, 28, 76, 40],\n",
       "       [0, 32, 76, 87],\n",
       "       [1, 25, 77, 12],\n",
       "       [1, 28, 77, 97],\n",
       "       [1, 48, 77, 36],\n",
       "       [0, 32, 77, 74],\n",
       "       [0, 34, 78, 22],\n",
       "       [1, 34, 78, 90],\n",
       "       [1, 43, 78, 17],\n",
       "       [1, 39, 78, 88],\n",
       "       [0, 44, 78, 20],\n",
       "       [0, 38, 78, 76],\n",
       "       [0, 47, 78, 16],\n",
       "       [0, 27, 78, 89],\n",
       "       [1, 37, 78, 1],\n",
       "       [0, 30, 78, 78],\n",
       "       [1, 34, 78, 1],\n",
       "       [0, 30, 78, 73],\n",
       "       [0, 56, 79, 35],\n",
       "       [0, 29, 79, 83],\n",
       "       [1, 19, 81, 5],\n",
       "       [0, 31, 81, 93],\n",
       "       [1, 50, 85, 26],\n",
       "       [0, 36, 85, 75],\n",
       "       [1, 42, 86, 20],\n",
       "       [0, 33, 86, 95],\n",
       "       [0, 36, 87, 27],\n",
       "       [1, 32, 87, 63],\n",
       "       [1, 40, 87, 13],\n",
       "       [1, 28, 87, 75],\n",
       "       [1, 36, 87, 10],\n",
       "       [1, 36, 87, 92],\n",
       "       [0, 52, 88, 13],\n",
       "       [0, 30, 88, 86],\n",
       "       [1, 58, 88, 15],\n",
       "       [1, 27, 88, 69],\n",
       "       [1, 59, 93, 14],\n",
       "       [1, 35, 93, 90],\n",
       "       [0, 37, 97, 32],\n",
       "       [0, 32, 97, 86],\n",
       "       [1, 46, 98, 15],\n",
       "       [0, 29, 98, 88],\n",
       "       [0, 41, 99, 39],\n",
       "       [1, 30, 99, 97],\n",
       "       [0, 54, 101, 24],\n",
       "       [1, 28, 101, 68],\n",
       "       [0, 41, 103, 17],\n",
       "       [0, 36, 103, 85],\n",
       "       [0, 34, 103, 23],\n",
       "       [0, 32, 103, 69],\n",
       "       [1, 33, 113, 8],\n",
       "       [0, 38, 113, 91],\n",
       "       [0, 47, 120, 16],\n",
       "       [0, 35, 120, 79],\n",
       "       [0, 45, 126, 28],\n",
       "       [1, 32, 126, 74],\n",
       "       [1, 32, 137, 18],\n",
       "       [1, 30, 137, 83]], dtype=object)"
      ]
     },
     "execution_count": 11,
     "metadata": {},
     "output_type": "execute_result"
    }
   ],
   "source": [
    "X #now data is ready for clustering"
   ]
  },
  {
   "cell_type": "code",
   "execution_count": 73,
   "metadata": {},
   "outputs": [],
   "source": [
    "#for clustering choose k initial cluster centres(from data) and map every new data point to one\n",
    "#of the cluster and update centroid of chosen cluster\n",
    "\n",
    "def dist(X,Y):\n",
    "    diff = (X-Y)**2\n",
    "    error_sq = np.sum(diff)\n",
    "    return np.sqrt(error_sq)\n",
    "\n",
    "def cluster(data,centroids,k):\n",
    "    m = data.shape[0]\n",
    "    points = np.zeros(data.shape[0])\n",
    "    for i in range(0,m):\n",
    "        d = 1e18\n",
    "        cluster_id = 0 \n",
    "        for j in range(0,k):\n",
    "            current_dist = dist(centroids[j],data[i])\n",
    "            if d>current_dist:\n",
    "                cluster_id = j\n",
    "                d = current_dist\n",
    "        points[i] = cluster_id\n",
    "    return points\n",
    "\n",
    "def centroids_update(data,points,k):\n",
    "    cnt = np.zeros(k)\n",
    "    sum_ = np.zeros(k,data.shape[1])\n",
    "    for i in range (0,data.shape[0]):\n",
    "        cnt[points[i]]+=1\n",
    "        sum_[points[i]]+=data[i]\n",
    "    for i in range (0,k):\n",
    "        for j in range (0,data.shape[1]):\n",
    "            sum_[i][j] /= cnt[i]\n",
    "    return sum_\n",
    "        \n",
    "\n",
    "\n",
    "    \n",
    "    "
   ]
  },
  {
   "cell_type": "code",
   "execution_count": 6,
   "metadata": {},
   "outputs": [],
   "source": [
    "a = [1,2,3,4]\n",
    "a = np.array(a)\n",
    "z = a.sum()"
   ]
  },
  {
   "cell_type": "code",
   "execution_count": 21,
   "metadata": {},
   "outputs": [
    {
     "data": {
      "text/plain": [
       "numpy.ndarray"
      ]
     },
     "execution_count": 21,
     "metadata": {},
     "output_type": "execute_result"
    }
   ],
   "source": [
    "type(centroids)"
   ]
  },
  {
   "cell_type": "code",
   "execution_count": 68,
   "metadata": {},
   "outputs": [],
   "source": [
    "k=5\n",
    "centroids = np.array([X[i] for i in range(0,5)])\n",
    "points = np.array([])\n",
    "points.resize(X.shape[0])"
   ]
  },
  {
   "cell_type": "code",
   "execution_count": 72,
   "metadata": {},
   "outputs": [
    {
     "ename": "TypeError",
     "evalue": "cluster() missing 1 required positional argument: 'k'",
     "output_type": "error",
     "traceback": [
      "\u001b[1;31m---------------------------------------------------------------------------\u001b[0m",
      "\u001b[1;31mTypeError\u001b[0m                                 Traceback (most recent call last)",
      "\u001b[1;32m<ipython-input-72-65fa22850ecd>\u001b[0m in \u001b[0;36m<module>\u001b[1;34m\u001b[0m\n\u001b[1;32m----> 1\u001b[1;33m \u001b[0mpoints\u001b[0m \u001b[1;33m=\u001b[0m \u001b[0mcluster\u001b[0m\u001b[1;33m(\u001b[0m\u001b[0mX\u001b[0m\u001b[1;33m,\u001b[0m\u001b[0mcentroids\u001b[0m\u001b[1;33m)\u001b[0m\u001b[1;33m\u001b[0m\u001b[1;33m\u001b[0m\u001b[0m\n\u001b[0m",
      "\u001b[1;31mTypeError\u001b[0m: cluster() missing 1 required positional argument: 'k'"
     ]
    }
   ],
   "source": [
    "points = cluster(X,centroids,5)"
   ]
  },
  {
   "cell_type": "code",
   "execution_count": 28,
   "metadata": {},
   "outputs": [],
   "source": [
    "diff=centroids[0]-X[0]"
   ]
  },
  {
   "cell_type": "code",
   "execution_count": 33,
   "metadata": {},
   "outputs": [
    {
     "data": {
      "text/plain": [
       "0.0"
      ]
     },
     "execution_count": 33,
     "metadata": {},
     "output_type": "execute_result"
    }
   ],
   "source": [
    "dist(X[0],centroids[0])"
   ]
  },
  {
   "cell_type": "code",
   "execution_count": 56,
   "metadata": {},
   "outputs": [
    {
     "data": {
      "text/plain": [
       "0.0"
      ]
     },
     "execution_count": 56,
     "metadata": {},
     "output_type": "execute_result"
    }
   ],
   "source": [
    "points[3]"
   ]
  },
  {
   "cell_type": "code",
   "execution_count": 55,
   "metadata": {},
   "outputs": [
    {
     "ename": "AttributeError",
     "evalue": "'numpy.float64' object has no attribute 'append'",
     "output_type": "error",
     "traceback": [
      "\u001b[1;31m---------------------------------------------------------------------------\u001b[0m",
      "\u001b[1;31mAttributeError\u001b[0m                            Traceback (most recent call last)",
      "\u001b[1;32m<ipython-input-55-852a33f8b3f5>\u001b[0m in \u001b[0;36m<module>\u001b[1;34m\u001b[0m\n\u001b[1;32m----> 1\u001b[1;33m \u001b[0mpoints\u001b[0m\u001b[1;33m[\u001b[0m\u001b[1;36m3\u001b[0m\u001b[1;33m]\u001b[0m\u001b[1;33m.\u001b[0m\u001b[0mappend\u001b[0m\u001b[1;33m(\u001b[0m\u001b[0mcentroid\u001b[0m\u001b[1;33m[\u001b[0m\u001b[1;36m0\u001b[0m\u001b[1;33m]\u001b[0m\u001b[1;33m)\u001b[0m\u001b[1;33m\u001b[0m\u001b[1;33m\u001b[0m\u001b[0m\n\u001b[0m",
      "\u001b[1;31mAttributeError\u001b[0m: 'numpy.float64' object has no attribute 'append'"
     ]
    }
   ],
   "source": [
    "points[3].append(centroid[0])"
   ]
  },
  {
   "cell_type": "code",
   "execution_count": 70,
   "metadata": {},
   "outputs": [
    {
     "data": {
      "text/plain": [
       "array([0., 1., 2., 3., 4., 3., 2., 1., 2., 3., 4., 1., 4., 3., 2., 3., 4.,\n",
       "       3., 4., 1., 4., 3., 2., 3., 4., 3., 4., 3., 4., 1., 2., 3., 2., 1.,\n",
       "       2., 3., 2., 3., 4., 3., 4., 1., 4., 3., 4., 3., 4., 4., 4., 4., 4.,\n",
       "       4., 4., 4., 4., 4., 4., 4., 4., 4., 4., 4., 4., 4., 4., 3., 4., 4.,\n",
       "       3., 4., 4., 4., 4., 4., 4., 4., 4., 4., 4., 4., 4., 4., 4., 4., 4.,\n",
       "       4., 4., 4., 4., 4., 4., 4., 4., 4., 4., 4., 4., 4., 4., 4., 4., 4.,\n",
       "       4., 4., 4., 4., 4., 4., 4., 4., 4., 4., 4., 4., 4., 4., 4., 4., 4.,\n",
       "       4., 4., 4., 4., 3., 4., 3., 4., 3., 4., 3., 2., 3., 4., 3., 2., 3.,\n",
       "       2., 3., 2., 3., 2., 3., 4., 3., 2., 3., 4., 3., 4., 3., 4., 3., 4.,\n",
       "       3., 4., 3., 2., 3., 2., 3., 4., 3., 2., 3., 4., 3., 4., 3., 4., 3.,\n",
       "       2., 3., 2., 3., 4., 3., 4., 3., 4., 3., 4., 3., 4., 3., 4., 3., 4.,\n",
       "       3., 4., 3., 4., 3., 2., 3., 4., 3., 4., 3., 4., 3.])"
      ]
     },
     "execution_count": 70,
     "metadata": {},
     "output_type": "execute_result"
    }
   ],
   "source": [
    "points"
   ]
  },
  {
   "cell_type": "code",
   "execution_count": 62,
   "metadata": {},
   "outputs": [
    {
     "data": {
      "text/plain": [
       "array([[1, 19, 15, 39],\n",
       "       [1, 21, 15, 81],\n",
       "       [0, 20, 16, 6],\n",
       "       [0, 23, 16, 77],\n",
       "       [0, 31, 17, 40]], dtype=object)"
      ]
     },
     "execution_count": 62,
     "metadata": {},
     "output_type": "execute_result"
    }
   ],
   "source": [
    "centroids"
   ]
  },
  {
   "cell_type": "code",
   "execution_count": 136,
   "metadata": {},
   "outputs": [],
   "source": [
    "#for clustering choose k initial cluster centres(from data) and map every new data point to one\n",
    "#of the cluster and update centroid of chosen cluster\n",
    "\n",
    "def dist(X,Y):\n",
    "    diff = (X-Y)**2\n",
    "    error_sq = np.sum(diff)\n",
    "    return np.sqrt(error_sq)\n",
    "\n",
    "#Hard clusters data points according to given pool of cluster centroids \n",
    "def cluster(data,centroids,k):\n",
    "    m = data.shape[0]\n",
    "    points = np.zeros(data.shape[0])\n",
    "    for i in range(0,m):\n",
    "        d = 1e18\n",
    "        cluster_id = 0 \n",
    "        for j in range(0,k):\n",
    "            current_dist = dist(centroids[j],data[i])\n",
    "            if d>current_dist:\n",
    "                cluster_id = j\n",
    "                d = current_dist\n",
    "        points[i] = cluster_id\n",
    "    #points is cluster id of respective data points\n",
    "    return points\n",
    "\n",
    "def centroids_update(data,points,k):\n",
    "    cnt = np.zeros(k)\n",
    "    sum_ = np.zeros(k*data.shape[1])\n",
    "    sum_.resize(k,data.shape[1])\n",
    "    for i in range (0,data.shape[0]):\n",
    "        idx = points[i]\n",
    "        idx = int(idx)\n",
    "        cnt[idx]=cnt[idx]+1\n",
    "        sum_[idx]=sum_[idx]+data[i]\n",
    "    for i in range (0,k):\n",
    "        for j in range (0,data.shape[1]):\n",
    "            sum_[i][j] /= cnt[i]\n",
    "    return sum_\n",
    "\n",
    "def error(data,centroids,points):\n",
    "    error = 0\n",
    "    n = data.shape[0]\n",
    "    n = int(n)\n",
    "    for i in range (0,n):\n",
    "        error = error + dist(data[i],centroids[int(points[i])])\n",
    "    return error\n",
    "    \n",
    "        "
   ]
  },
  {
   "cell_type": "code",
   "execution_count": 168,
   "metadata": {},
   "outputs": [],
   "source": [
    "err=[]\n",
    "for k in range(1,11):\n",
    "    centroids = np.array([X[i] for i in range(0,k)])\n",
    "    for i in range (0,10):\n",
    "        points = cluster(X,centroids,k)\n",
    "        centroids = centroids_update(X,points,k)\n",
    "        error_ = error(X,centroids,points)\n",
    "    err.append(error_)"
   ]
  },
  {
   "cell_type": "code",
   "execution_count": 169,
   "metadata": {},
   "outputs": [
    {
     "data": {
      "text/plain": [
       "[7117.565514705094,\n",
       " 6024.410227711778,\n",
       " 4804.101529737152,\n",
       " 4093.1504815844105,\n",
       " 3554.6198308369094,\n",
       " 3108.494432032166,\n",
       " 2980.495707351518,\n",
       " 2907.853029503826,\n",
       " 2820.1515365223077,\n",
       " 2702.8412370471224]"
      ]
     },
     "execution_count": 169,
     "metadata": {},
     "output_type": "execute_result"
    }
   ],
   "source": [
    "err"
   ]
  },
  {
   "cell_type": "code",
   "execution_count": 172,
   "metadata": {},
   "outputs": [],
   "source": [
    "itr = np.arange(1,11)"
   ]
  },
  {
   "cell_type": "code",
   "execution_count": 180,
   "metadata": {},
   "outputs": [
    {
     "data": {
      "text/plain": [
       "Text(0, 0.5, 'loss')"
      ]
     },
     "execution_count": 180,
     "metadata": {},
     "output_type": "execute_result"
    },
    {
     "data": {
      "image/png": "[encoded data removed]",
      "text/plain": [
       "<Figure size 432x288 with 1 Axes>"
      ]
     },
     "metadata": {
      "needs_background": "light"
     },
     "output_type": "display_data"
    }
   ],
   "source": [
    "plt.plot(itr,err,'-')\n",
    "plt.xlabel('k')\n",
    "plt.ylabel('loss')\n",
    "#elbow turns for k=6"
   ]
  },
  {
   "cell_type": "code",
   "execution_count": 152,
   "metadata": {},
   "outputs": [
    {
     "data": {
      "text/plain": [
       "array([[ 0.45454545, 34.90909091, 21.72727273, 29.72727273],\n",
       "       [ 0.38095238, 24.80952381, 25.61904762, 80.23809524],\n",
       "       [ 0.6       , 44.11428571, 69.74285714, 11.88571429],\n",
       "       [ 0.47727273, 31.34090909, 83.06818182, 79.27272727],\n",
       "       [ 0.37078652, 44.29213483, 58.86516854, 46.33707865]])"
      ]
     },
     "execution_count": 152,
     "metadata": {},
     "output_type": "execute_result"
    }
   ],
   "source": [
    "centroids"
   ]
  },
  {
   "cell_type": "code",
   "execution_count": 137,
   "metadata": {},
   "outputs": [
    {
     "data": {
      "text/plain": [
       "3554.6198308369094"
      ]
     },
     "execution_count": 137,
     "metadata": {},
     "output_type": "execute_result"
    }
   ],
   "source": [
    "error_conv = error(X,centroids,points)\n",
    "error_conv"
   ]
  },
  {
   "cell_type": "code",
   "execution_count": 153,
   "metadata": {},
   "outputs": [
    {
     "data": {
      "text/plain": [
       "4177.964794307891"
      ]
     },
     "execution_count": 153,
     "metadata": {},
     "output_type": "execute_result"
    }
   ],
   "source": [
    "error_init = error(X,centroids,points)\n",
    "error_init"
   ]
  },
  {
   "cell_type": "code",
   "execution_count": 93,
   "metadata": {},
   "outputs": [
    {
     "data": {
      "text/plain": [
       "array([], dtype=float64)"
      ]
     },
     "execution_count": 93,
     "metadata": {},
     "output_type": "execute_result"
    }
   ],
   "source": []
  },
  {
   "cell_type": "code",
   "execution_count": 94,
   "metadata": {},
   "outputs": [
    {
     "ename": "ValueError",
     "evalue": "could not broadcast input array from shape (4) into shape (0)",
     "output_type": "error",
     "traceback": [
      "\u001b[1;31m---------------------------------------------------------------------------\u001b[0m",
      "\u001b[1;31mValueError\u001b[0m                                Traceback (most recent call last)",
      "\u001b[1;32m<ipython-input-94-ac250cd8de87>\u001b[0m in \u001b[0;36m<module>\u001b[1;34m\u001b[0m\n\u001b[1;32m----> 1\u001b[1;33m \u001b[0msum_\u001b[0m\u001b[1;33m[\u001b[0m\u001b[1;36m0\u001b[0m\u001b[1;33m]\u001b[0m \u001b[1;33m=\u001b[0m \u001b[0mX\u001b[0m\u001b[1;33m[\u001b[0m\u001b[1;36m0\u001b[0m\u001b[1;33m]\u001b[0m\u001b[1;33m\u001b[0m\u001b[1;33m\u001b[0m\u001b[0m\n\u001b[0m",
      "\u001b[1;31mValueError\u001b[0m: could not broadcast input array from shape (4) into shape (0)"
     ]
    }
   ],
   "source": [
    "sum_[0] = X[0]"
   ]
  },
  {
   "cell_type": "code",
   "execution_count": 95,
   "metadata": {},
   "outputs": [],
   "source": [
    "sum_ = np.zeros(5*X.shape[1])"
   ]
  },
  {
   "cell_type": "code",
   "execution_count": 96,
   "metadata": {},
   "outputs": [
    {
     "data": {
      "text/plain": [
       "array([0., 0., 0., 0., 0., 0., 0., 0., 0., 0., 0., 0., 0., 0., 0., 0., 0.,\n",
       "       0., 0., 0.])"
      ]
     },
     "execution_count": 96,
     "metadata": {},
     "output_type": "execute_result"
    }
   ],
   "source": [
    "sum_"
   ]
  },
  {
   "cell_type": "code",
   "execution_count": 97,
   "metadata": {},
   "outputs": [],
   "source": [
    "sum_.resize(5,X.shape[1])"
   ]
  },
  {
   "cell_type": "code",
   "execution_count": 98,
   "metadata": {},
   "outputs": [
    {
     "data": {
      "text/plain": [
       "array([[0., 0., 0., 0.],\n",
       "       [0., 0., 0., 0.],\n",
       "       [0., 0., 0., 0.],\n",
       "       [0., 0., 0., 0.],\n",
       "       [0., 0., 0., 0.]])"
      ]
     },
     "execution_count": 98,
     "metadata": {},
     "output_type": "execute_result"
    }
   ],
   "source": [
    "sum_"
   ]
  },
  {
   "cell_type": "code",
   "execution_count": 102,
   "metadata": {},
   "outputs": [],
   "source": [
    "sum_[0] = sum_[0]+ X[0]"
   ]
  },
  {
   "cell_type": "code",
   "execution_count": 103,
   "metadata": {},
   "outputs": [
    {
     "data": {
      "text/plain": [
       "array([ 2., 38., 30., 78.])"
      ]
     },
     "execution_count": 103,
     "metadata": {},
     "output_type": "execute_result"
    }
   ],
   "source": [
    "sum_[0]"
   ]
  },
  {
   "cell_type": "code",
   "execution_count": null,
   "metadata": {},
   "outputs": [],
   "source": []
  }
 ],
 "metadata": {
  "kernelspec": {
   "display_name": "Python 3",
   "language": "python",
   "name": "python3"
  },
  "language_info": {
   "codemirror_mode": {
    "name": "ipython",
    "version": 3
   },
   "file_extension": ".py",
   "mimetype": "text/x-python",
   "name": "python",
   "nbconvert_exporter": "python",
   "pygments_lexer": "ipython3",
   "version": "3.6.8"
  }
 },
 "nbformat": 4,
 "nbformat_minor": 2
}
